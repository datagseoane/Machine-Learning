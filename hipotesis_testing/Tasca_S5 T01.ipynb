{
 "cells": [
  {
   "cell_type": "markdown",
   "metadata": {},
   "source": [
    "## Tasca S5 T01"
   ]
  },
  {
   "cell_type": "code",
   "execution_count": 1,
   "metadata": {},
   "outputs": [],
   "source": [
    "import numpy as np\n",
    "import pandas as pd\n",
    "import matplotlib.pyplot as plt\n",
    "import seaborn as sns"
   ]
  },
  {
   "cell_type": "markdown",
   "metadata": {},
   "source": [
    "**Exercicis d'Hipotesis Testing.**"
   ]
  },
  {
   "cell_type": "code",
   "execution_count": 2,
   "metadata": {},
   "outputs": [],
   "source": [
    "#cargar el dataset\n",
    "UEFA = pd.read_csv(\"dataset/UEFA.csv\", sep = \";\", index_col = None, encoding = \"ISO-8859-1\")"
   ]
  },
  {
   "cell_type": "code",
   "execution_count": 3,
   "metadata": {},
   "outputs": [
    {
     "data": {
      "text/html": [
       "<div>\n",
       "<style scoped>\n",
       "    .dataframe tbody tr th:only-of-type {\n",
       "        vertical-align: middle;\n",
       "    }\n",
       "\n",
       "    .dataframe tbody tr th {\n",
       "        vertical-align: top;\n",
       "    }\n",
       "\n",
       "    .dataframe thead th {\n",
       "        text-align: right;\n",
       "    }\n",
       "</style>\n",
       "<table border=\"1\" class=\"dataframe\">\n",
       "  <thead>\n",
       "    <tr style=\"text-align: right;\">\n",
       "      <th></th>\n",
       "      <th>Rk</th>\n",
       "      <th>Squad</th>\n",
       "      <th>Country</th>\n",
       "      <th>LgRk</th>\n",
       "      <th>MP</th>\n",
       "      <th>W</th>\n",
       "      <th>D</th>\n",
       "      <th>L</th>\n",
       "      <th>GF</th>\n",
       "      <th>GA</th>\n",
       "      <th>...</th>\n",
       "      <th>Pts</th>\n",
       "      <th>Pts/G</th>\n",
       "      <th>xG</th>\n",
       "      <th>xGA</th>\n",
       "      <th>xGD</th>\n",
       "      <th>xGD/90</th>\n",
       "      <th>Last 5</th>\n",
       "      <th>Attendance</th>\n",
       "      <th>Top Team Scorer</th>\n",
       "      <th>Goalkeeper</th>\n",
       "    </tr>\n",
       "  </thead>\n",
       "  <tbody>\n",
       "    <tr>\n",
       "      <th>0</th>\n",
       "      <td>1</td>\n",
       "      <td>Manchester City</td>\n",
       "      <td>ENG</td>\n",
       "      <td>1</td>\n",
       "      <td>37</td>\n",
       "      <td>28</td>\n",
       "      <td>6</td>\n",
       "      <td>3</td>\n",
       "      <td>96</td>\n",
       "      <td>24</td>\n",
       "      <td>...</td>\n",
       "      <td>90</td>\n",
       "      <td>2.43</td>\n",
       "      <td>86.1</td>\n",
       "      <td>26.8</td>\n",
       "      <td>59.3</td>\n",
       "      <td>1.60</td>\n",
       "      <td>W W W W D</td>\n",
       "      <td>52739</td>\n",
       "      <td>Kevin De Bruyne - 15</td>\n",
       "      <td>Ederson</td>\n",
       "    </tr>\n",
       "    <tr>\n",
       "      <th>1</th>\n",
       "      <td>2</td>\n",
       "      <td>Liverpool</td>\n",
       "      <td>ENG</td>\n",
       "      <td>2</td>\n",
       "      <td>36</td>\n",
       "      <td>26</td>\n",
       "      <td>8</td>\n",
       "      <td>2</td>\n",
       "      <td>89</td>\n",
       "      <td>24</td>\n",
       "      <td>...</td>\n",
       "      <td>86</td>\n",
       "      <td>2.39</td>\n",
       "      <td>84.6</td>\n",
       "      <td>33.1</td>\n",
       "      <td>51.4</td>\n",
       "      <td>1.43</td>\n",
       "      <td>W W W D W</td>\n",
       "      <td>53367</td>\n",
       "      <td>Mohamed Salah - 22</td>\n",
       "      <td>Alisson</td>\n",
       "    </tr>\n",
       "    <tr>\n",
       "      <th>2</th>\n",
       "      <td>3</td>\n",
       "      <td>Real Madrid</td>\n",
       "      <td>ESP</td>\n",
       "      <td>1</td>\n",
       "      <td>37</td>\n",
       "      <td>26</td>\n",
       "      <td>7</td>\n",
       "      <td>4</td>\n",
       "      <td>80</td>\n",
       "      <td>31</td>\n",
       "      <td>...</td>\n",
       "      <td>85</td>\n",
       "      <td>2.30</td>\n",
       "      <td>73.0</td>\n",
       "      <td>45.8</td>\n",
       "      <td>27.2</td>\n",
       "      <td>0.73</td>\n",
       "      <td>W W L W D</td>\n",
       "      <td>40624</td>\n",
       "      <td>Karim Benzema - 27</td>\n",
       "      <td>Thibaut Courtois</td>\n",
       "    </tr>\n",
       "    <tr>\n",
       "      <th>3</th>\n",
       "      <td>4</td>\n",
       "      <td>Bayern Munich</td>\n",
       "      <td>GER</td>\n",
       "      <td>1</td>\n",
       "      <td>34</td>\n",
       "      <td>24</td>\n",
       "      <td>5</td>\n",
       "      <td>5</td>\n",
       "      <td>97</td>\n",
       "      <td>37</td>\n",
       "      <td>...</td>\n",
       "      <td>77</td>\n",
       "      <td>2.26</td>\n",
       "      <td>88.1</td>\n",
       "      <td>37.1</td>\n",
       "      <td>51.0</td>\n",
       "      <td>1.50</td>\n",
       "      <td>W W L D D</td>\n",
       "      <td>33176</td>\n",
       "      <td>Robert Lewandowski - 35</td>\n",
       "      <td>Manuel Neuer</td>\n",
       "    </tr>\n",
       "    <tr>\n",
       "      <th>4</th>\n",
       "      <td>5</td>\n",
       "      <td>Paris S-G</td>\n",
       "      <td>FRA</td>\n",
       "      <td>1</td>\n",
       "      <td>37</td>\n",
       "      <td>25</td>\n",
       "      <td>8</td>\n",
       "      <td>4</td>\n",
       "      <td>85</td>\n",
       "      <td>36</td>\n",
       "      <td>...</td>\n",
       "      <td>83</td>\n",
       "      <td>2.24</td>\n",
       "      <td>71.6</td>\n",
       "      <td>38.1</td>\n",
       "      <td>33.4</td>\n",
       "      <td>0.90</td>\n",
       "      <td>W D D D W</td>\n",
       "      <td>41188</td>\n",
       "      <td>Kylian Mbappé - 25</td>\n",
       "      <td>Keylor Navas</td>\n",
       "    </tr>\n",
       "  </tbody>\n",
       "</table>\n",
       "<p>5 rows × 21 columns</p>\n",
       "</div>"
      ],
      "text/plain": [
       "   Rk            Squad Country  LgRk  MP   W  D  L  GF  GA  ...  Pts  Pts/G  \\\n",
       "0   1  Manchester City     ENG     1  37  28  6  3  96  24  ...   90   2.43   \n",
       "1   2        Liverpool     ENG     2  36  26  8  2  89  24  ...   86   2.39   \n",
       "2   3      Real Madrid     ESP     1  37  26  7  4  80  31  ...   85   2.30   \n",
       "3   4    Bayern Munich     GER     1  34  24  5  5  97  37  ...   77   2.26   \n",
       "4   5        Paris S-G     FRA     1  37  25  8  4  85  36  ...   83   2.24   \n",
       "\n",
       "     xG   xGA   xGD  xGD/90     Last 5 Attendance          Top Team Scorer  \\\n",
       "0  86.1  26.8  59.3    1.60  W W W W D      52739     Kevin De Bruyne - 15   \n",
       "1  84.6  33.1  51.4    1.43  W W W D W      53367       Mohamed Salah - 22   \n",
       "2  73.0  45.8  27.2    0.73  W W L W D      40624       Karim Benzema - 27   \n",
       "3  88.1  37.1  51.0    1.50  W W L D D      33176  Robert Lewandowski - 35   \n",
       "4  71.6  38.1  33.4    0.90  W D D D W      41188       Kylian Mbappé - 25   \n",
       "\n",
       "         Goalkeeper  \n",
       "0           Ederson  \n",
       "1           Alisson  \n",
       "2  Thibaut Courtois  \n",
       "3      Manuel Neuer  \n",
       "4      Keylor Navas  \n",
       "\n",
       "[5 rows x 21 columns]"
      ]
     },
     "execution_count": 3,
     "metadata": {},
     "output_type": "execute_result"
    }
   ],
   "source": [
    "UEFA.head(5)"
   ]
  },
  {
   "cell_type": "markdown",
   "metadata": {},
   "source": [
    "**Content:**\n",
    "\n",
    "+90 rows and 20 columns.\n",
    "Columns' description are listed below.\n",
    "\n",
    "* **Rk :** Rank\n",
    "* **Squad :**  Squad's name\n",
    "* **Country :**  Name of the country\n",
    "* **LgRk :**  Squad finish within the league\n",
    "* **MP :**  Matches Played\n",
    "* **W :**  Won \n",
    "* **D :**  Draw\n",
    "* **L :**  Loss\n",
    "* **GF :**  Goals For \n",
    "* **GA :**  Goals Against\n",
    "* **GD :**  Goal Difference (i.e., difference between GF and GA, and sometimes denoted by +/-)\n",
    "* **Pts :** Points (i.e., total number of points earned by a team after playing a certain number of games). A team is awarded 3 points after winning a match or one point if the game ends as a draw or tie.\n",
    "* **Pts/G :** Points per game\n",
    "* **xG :** Expected goals\n",
    "* **xGA :** Expected goals allowed\n",
    "* **xGD :** Expected goals difference\n",
    "* **xGD/90 :** Expected goals difference per 90 minutes\n",
    "* **Attendance :** Attendance per game during this season, only for home matches\n",
    "* **Top Team Scorer :** Top team scorer in league play\n",
    "* **Goalkeeper :** Goalkeeper with the most minutes in league play"
   ]
  },
  {
   "cell_type": "markdown",
   "metadata": {},
   "source": [
    "### Exercici 1"
   ]
  },
  {
   "cell_type": "markdown",
   "metadata": {},
   "source": [
    "*Descarrega el dataset adjunt de dades oficials de la UEFA i selecciona un atribut del conjunt de dades. Calcula el p-valor i digues si rebutja la hipòtesi nul·la agafant un alfa de 5%.*"
   ]
  },
  {
   "cell_type": "markdown",
   "metadata": {},
   "source": [
    "En este primer ejercicio queremos determinar cual es el promedio de puntos que debemos alcanzar para ganar la liga. Seguiremos los pasos básicos para realizar el test de hipótesis. \n",
    "\n",
    "En los criterios para la prueba hemos considerado conveniente reducir el tamaño de la muestra a los líderes de cada una de grandes ligas europeas **(LgRk = 1)** para tener una distribución normal y más homogénea. En este caso son 5."
   ]
  },
  {
   "cell_type": "code",
   "execution_count": 5,
   "metadata": {},
   "outputs": [
    {
     "data": {
      "text/html": [
       "<div>\n",
       "<style scoped>\n",
       "    .dataframe tbody tr th:only-of-type {\n",
       "        vertical-align: middle;\n",
       "    }\n",
       "\n",
       "    .dataframe tbody tr th {\n",
       "        vertical-align: top;\n",
       "    }\n",
       "\n",
       "    .dataframe thead th {\n",
       "        text-align: right;\n",
       "    }\n",
       "</style>\n",
       "<table border=\"1\" class=\"dataframe\">\n",
       "  <thead>\n",
       "    <tr style=\"text-align: right;\">\n",
       "      <th></th>\n",
       "      <th>Rk</th>\n",
       "      <th>LgRk</th>\n",
       "      <th>MP</th>\n",
       "      <th>W</th>\n",
       "      <th>D</th>\n",
       "      <th>L</th>\n",
       "      <th>GF</th>\n",
       "      <th>GA</th>\n",
       "      <th>GD</th>\n",
       "      <th>Pts</th>\n",
       "      <th>Pts/G</th>\n",
       "      <th>xG</th>\n",
       "      <th>xGA</th>\n",
       "      <th>xGD</th>\n",
       "      <th>xGD/90</th>\n",
       "      <th>Attendance</th>\n",
       "    </tr>\n",
       "  </thead>\n",
       "  <tbody>\n",
       "    <tr>\n",
       "      <th>count</th>\n",
       "      <td>5.00</td>\n",
       "      <td>5.0</td>\n",
       "      <td>5.00</td>\n",
       "      <td>5.00</td>\n",
       "      <td>5.0</td>\n",
       "      <td>5.00</td>\n",
       "      <td>5.00</td>\n",
       "      <td>5.00</td>\n",
       "      <td>5.00</td>\n",
       "      <td>5.00</td>\n",
       "      <td>5.00</td>\n",
       "      <td>5.00</td>\n",
       "      <td>5.00</td>\n",
       "      <td>5.00</td>\n",
       "      <td>5.00</td>\n",
       "      <td>5.00</td>\n",
       "    </tr>\n",
       "    <tr>\n",
       "      <th>mean</th>\n",
       "      <td>3.80</td>\n",
       "      <td>1.0</td>\n",
       "      <td>36.40</td>\n",
       "      <td>25.60</td>\n",
       "      <td>6.8</td>\n",
       "      <td>4.00</td>\n",
       "      <td>84.80</td>\n",
       "      <td>31.80</td>\n",
       "      <td>53.00</td>\n",
       "      <td>83.60</td>\n",
       "      <td>2.29</td>\n",
       "      <td>75.76</td>\n",
       "      <td>36.44</td>\n",
       "      <td>39.30</td>\n",
       "      <td>1.08</td>\n",
       "      <td>42023.00</td>\n",
       "    </tr>\n",
       "    <tr>\n",
       "      <th>std</th>\n",
       "      <td>1.92</td>\n",
       "      <td>0.0</td>\n",
       "      <td>1.34</td>\n",
       "      <td>1.52</td>\n",
       "      <td>1.3</td>\n",
       "      <td>0.71</td>\n",
       "      <td>12.76</td>\n",
       "      <td>5.17</td>\n",
       "      <td>13.84</td>\n",
       "      <td>4.67</td>\n",
       "      <td>0.08</td>\n",
       "      <td>11.54</td>\n",
       "      <td>6.85</td>\n",
       "      <td>15.05</td>\n",
       "      <td>0.43</td>\n",
       "      <td>6998.03</td>\n",
       "    </tr>\n",
       "    <tr>\n",
       "      <th>min</th>\n",
       "      <td>1.00</td>\n",
       "      <td>1.0</td>\n",
       "      <td>34.00</td>\n",
       "      <td>24.00</td>\n",
       "      <td>5.0</td>\n",
       "      <td>3.00</td>\n",
       "      <td>66.00</td>\n",
       "      <td>24.00</td>\n",
       "      <td>35.00</td>\n",
       "      <td>77.00</td>\n",
       "      <td>2.24</td>\n",
       "      <td>60.00</td>\n",
       "      <td>26.80</td>\n",
       "      <td>25.60</td>\n",
       "      <td>0.69</td>\n",
       "      <td>33176.00</td>\n",
       "    </tr>\n",
       "    <tr>\n",
       "      <th>25%</th>\n",
       "      <td>3.00</td>\n",
       "      <td>1.0</td>\n",
       "      <td>37.00</td>\n",
       "      <td>25.00</td>\n",
       "      <td>6.0</td>\n",
       "      <td>4.00</td>\n",
       "      <td>80.00</td>\n",
       "      <td>31.00</td>\n",
       "      <td>49.00</td>\n",
       "      <td>83.00</td>\n",
       "      <td>2.24</td>\n",
       "      <td>71.60</td>\n",
       "      <td>34.40</td>\n",
       "      <td>27.20</td>\n",
       "      <td>0.73</td>\n",
       "      <td>40624.00</td>\n",
       "    </tr>\n",
       "    <tr>\n",
       "      <th>50%</th>\n",
       "      <td>4.00</td>\n",
       "      <td>1.0</td>\n",
       "      <td>37.00</td>\n",
       "      <td>25.00</td>\n",
       "      <td>7.0</td>\n",
       "      <td>4.00</td>\n",
       "      <td>85.00</td>\n",
       "      <td>31.00</td>\n",
       "      <td>49.00</td>\n",
       "      <td>83.00</td>\n",
       "      <td>2.26</td>\n",
       "      <td>73.00</td>\n",
       "      <td>37.10</td>\n",
       "      <td>33.40</td>\n",
       "      <td>0.90</td>\n",
       "      <td>41188.00</td>\n",
       "    </tr>\n",
       "    <tr>\n",
       "      <th>75%</th>\n",
       "      <td>5.00</td>\n",
       "      <td>1.0</td>\n",
       "      <td>37.00</td>\n",
       "      <td>26.00</td>\n",
       "      <td>8.0</td>\n",
       "      <td>4.00</td>\n",
       "      <td>96.00</td>\n",
       "      <td>36.00</td>\n",
       "      <td>60.00</td>\n",
       "      <td>85.00</td>\n",
       "      <td>2.30</td>\n",
       "      <td>86.10</td>\n",
       "      <td>38.10</td>\n",
       "      <td>51.00</td>\n",
       "      <td>1.50</td>\n",
       "      <td>42388.00</td>\n",
       "    </tr>\n",
       "    <tr>\n",
       "      <th>max</th>\n",
       "      <td>6.00</td>\n",
       "      <td>1.0</td>\n",
       "      <td>37.00</td>\n",
       "      <td>28.00</td>\n",
       "      <td>8.0</td>\n",
       "      <td>5.00</td>\n",
       "      <td>97.00</td>\n",
       "      <td>37.00</td>\n",
       "      <td>72.00</td>\n",
       "      <td>90.00</td>\n",
       "      <td>2.43</td>\n",
       "      <td>88.10</td>\n",
       "      <td>45.80</td>\n",
       "      <td>59.30</td>\n",
       "      <td>1.60</td>\n",
       "      <td>52739.00</td>\n",
       "    </tr>\n",
       "  </tbody>\n",
       "</table>\n",
       "</div>"
      ],
      "text/plain": [
       "         Rk  LgRk     MP      W    D     L     GF     GA     GD    Pts  Pts/G  \\\n",
       "count  5.00   5.0   5.00   5.00  5.0  5.00   5.00   5.00   5.00   5.00   5.00   \n",
       "mean   3.80   1.0  36.40  25.60  6.8  4.00  84.80  31.80  53.00  83.60   2.29   \n",
       "std    1.92   0.0   1.34   1.52  1.3  0.71  12.76   5.17  13.84   4.67   0.08   \n",
       "min    1.00   1.0  34.00  24.00  5.0  3.00  66.00  24.00  35.00  77.00   2.24   \n",
       "25%    3.00   1.0  37.00  25.00  6.0  4.00  80.00  31.00  49.00  83.00   2.24   \n",
       "50%    4.00   1.0  37.00  25.00  7.0  4.00  85.00  31.00  49.00  83.00   2.26   \n",
       "75%    5.00   1.0  37.00  26.00  8.0  4.00  96.00  36.00  60.00  85.00   2.30   \n",
       "max    6.00   1.0  37.00  28.00  8.0  5.00  97.00  37.00  72.00  90.00   2.43   \n",
       "\n",
       "          xG    xGA    xGD  xGD/90  Attendance  \n",
       "count   5.00   5.00   5.00    5.00        5.00  \n",
       "mean   75.76  36.44  39.30    1.08    42023.00  \n",
       "std    11.54   6.85  15.05    0.43     6998.03  \n",
       "min    60.00  26.80  25.60    0.69    33176.00  \n",
       "25%    71.60  34.40  27.20    0.73    40624.00  \n",
       "50%    73.00  37.10  33.40    0.90    41188.00  \n",
       "75%    86.10  38.10  51.00    1.50    42388.00  \n",
       "max    88.10  45.80  59.30    1.60    52739.00  "
      ]
     },
     "execution_count": 5,
     "metadata": {},
     "output_type": "execute_result"
    }
   ],
   "source": [
    "Top_UEFA = UEFA[UEFA['LgRk'] == 1]\n",
    "Top_UEFA.describe().round(2)"
   ]
  },
  {
   "cell_type": "markdown",
   "metadata": {},
   "source": [
    "Especificamos la hipótesis:\n",
    "* **La hipótesis nula (H<sub>0</sub>)**: la media de la media de todos los equipos H<sub>0</sub>: μ = 83.60\n",
    "* **Hipótesis alternativa (H<sub>1</sub>**): queremos asegurarnos de cuantos puntos necesitamos para ganar la liga, por lo tanto, la condición que se probará es la media de la población es menor que el objetivo. H<sub>1</sub> < 83.6. \n",
    "\n",
    "Realizaremos la prueba de *Shapiro-Wilk* para comprobar si la muestra de datos de datos tiene una distribución gaussiana."
   ]
  },
  {
   "cell_type": "code",
   "execution_count": 6,
   "metadata": {
    "scrolled": true
   },
   "outputs": [
    {
     "name": "stdout",
     "output_type": "stream",
     "text": [
      "stat=0.954, p=0.769\n",
      "Probably Gaussian\n"
     ]
    },
    {
     "data": {
      "image/png": "[encoded data removed]",
      "text/plain": [
       "<Figure size 432x288 with 1 Axes>"
      ]
     },
     "metadata": {
      "needs_background": "light"
     },
     "output_type": "display_data"
    }
   ],
   "source": [
    "# Example of the Shapiro-Wilk Normality Test\n",
    "from scipy.stats import shapiro\n",
    "data = Top_UEFA['Pts'].values\n",
    "stat, p = shapiro(data)\n",
    "print('stat=%.3f, p=%.3f' % (stat, p))\n",
    "if p > 0.05:\n",
    "    print('Probably Gaussian')\n",
    "else:\n",
    "    print('Probably not Gaussian')\n",
    "    \n",
    "#plot it\n",
    "sns.kdeplot(data)\n",
    "\n",
    "plt.title(\"Distribución de Pts\")\n",
    "plt.xlabel(\"Pts\")\n",
    "plt.ylabel(\"p\")\n",
    "\n",
    "plt.show()"
   ]
  },
  {
   "cell_type": "markdown",
   "metadata": {},
   "source": [
    "**Conclusión**: Después de realizar la prueba de hipótesis, obtenemos un valor **p** de **0.769**. El valor p es mayor que el nivel de significancia del 5%.  \n",
    "Por lo tanto, podemos confirmar la hipótesis nula y concluir que para ganar la liga necesitaremos como mínimo 83 puntos."
   ]
  },
  {
   "cell_type": "markdown",
   "metadata": {},
   "source": [
    "### Exercici 2"
   ]
  },
  {
   "cell_type": "markdown",
   "metadata": {},
   "source": [
    "*Amb el mateix dataset selecciona dos altres atributs del conjunt de dades. Calcula els p-valors i digues si rebutgen la hipòtesi nul·la agafant un alfa de 5%.*"
   ]
  },
  {
   "cell_type": "markdown",
   "metadata": {},
   "source": [
    "Para esta segunda prueba, estamos interesados en comprobar si existe una relación entre tener al *\"pichichi\"* o máximo goleador de la liga en nuestro equipo y ganar el título de liga. Para ello realizaremos un muestreo sobre una de las ligas. En este caso concreto hemos seleccionado la liga alemana **(GER)**, la cual está compueta por un total de 18 equipos y la analizaremos con sus respectivos máximos goleadores de cada equipo. A un nivel de significacición del 5%, ¿podremos decir que un jugador nos puede hacer ganar la liga?.  \n",
    "\n",
    "Los datos son los siguientes:"
   ]
  },
  {
   "cell_type": "code",
   "execution_count": 7,
   "metadata": {
    "scrolled": false
   },
   "outputs": [
    {
     "data": {
      "text/html": [
       "<div>\n",
       "<style scoped>\n",
       "    .dataframe tbody tr th:only-of-type {\n",
       "        vertical-align: middle;\n",
       "    }\n",
       "\n",
       "    .dataframe tbody tr th {\n",
       "        vertical-align: top;\n",
       "    }\n",
       "\n",
       "    .dataframe thead th {\n",
       "        text-align: right;\n",
       "    }\n",
       "</style>\n",
       "<table border=\"1\" class=\"dataframe\">\n",
       "  <thead>\n",
       "    <tr style=\"text-align: right;\">\n",
       "      <th></th>\n",
       "      <th>LgRk</th>\n",
       "      <th>Top Team Scorer</th>\n",
       "      <th>Goals</th>\n",
       "    </tr>\n",
       "  </thead>\n",
       "  <tbody>\n",
       "    <tr>\n",
       "      <th>3</th>\n",
       "      <td>1</td>\n",
       "      <td>Robert Lewandowski</td>\n",
       "      <td>35</td>\n",
       "    </tr>\n",
       "    <tr>\n",
       "      <th>12</th>\n",
       "      <td>3</td>\n",
       "      <td>Patrik Schick</td>\n",
       "      <td>24</td>\n",
       "    </tr>\n",
       "    <tr>\n",
       "      <th>8</th>\n",
       "      <td>2</td>\n",
       "      <td>Erling Haaland</td>\n",
       "      <td>22</td>\n",
       "    </tr>\n",
       "    <tr>\n",
       "      <th>34</th>\n",
       "      <td>7</td>\n",
       "      <td>Anthony Modeste</td>\n",
       "      <td>20</td>\n",
       "    </tr>\n",
       "    <tr>\n",
       "      <th>22</th>\n",
       "      <td>4</td>\n",
       "      <td>Christopher Nkunku</td>\n",
       "      <td>20</td>\n",
       "    </tr>\n",
       "  </tbody>\n",
       "</table>\n",
       "</div>"
      ],
      "text/plain": [
       "    LgRk      Top Team Scorer  Goals\n",
       "3      1  Robert Lewandowski      35\n",
       "12     3       Patrik Schick      24\n",
       "8      2      Erling Haaland      22\n",
       "34     7     Anthony Modeste      20\n",
       "22     4  Christopher Nkunku      20"
      ]
     },
     "execution_count": 7,
     "metadata": {},
     "output_type": "execute_result"
    }
   ],
   "source": [
    "# Create dataset\n",
    "UEFA[['Top Team Scorer','Goals']] = UEFA['Top Team Scorer'].str.rsplit(pat='-', n=1, expand=True) \n",
    "UEFA['Goals'] = UEFA['Goals'].astype(int)\n",
    "\n",
    "GER = UEFA[UEFA['Country'] == 'GER'] # filtramos por 'country'\n",
    "\n",
    "data1 = GER[['LgRk', 'Top Team Scorer','Goals']] # seleccionamos columnas de interés\n",
    "data1.sort_values(by = 'Goals', ascending = False).head()"
   ]
  },
  {
   "cell_type": "markdown",
   "metadata": {},
   "source": [
    "Para verificar si las dos muestras están relacionadas utilizaremos el *Coeficiente de correlación de Pearson*, donde comprobaremos si las dos muestras tienen una relación lineal."
   ]
  },
  {
   "cell_type": "code",
   "execution_count": 9,
   "metadata": {
    "scrolled": false
   },
   "outputs": [
    {
     "name": "stdout",
     "output_type": "stream",
     "text": [
      "stat=-0.809, p=0.000\n",
      "Probably dependent\n"
     ]
    },
    {
     "data": {
      "image/png": "[encoded data removed]",
      "text/plain": [
       "<Figure size 432x288 with 1 Axes>"
      ]
     },
     "metadata": {
      "needs_background": "light"
     },
     "output_type": "display_data"
    }
   ],
   "source": [
    "# Example of the Pearson's Correlation test\n",
    "from scipy.stats import pearsonr\n",
    "data2 = GER['LgRk'] #ESP\n",
    "data3 = GER['Goals'] #ENG\n",
    "stat, p = pearsonr(data2, data3)\n",
    "print('stat=%.3f, p=%.3f' % (stat, p))\n",
    "if p > 0.05:\n",
    "    print('Probably independent')\n",
    "else:\n",
    "    print('Probably dependent')\n",
    "    \n",
    "#plot it\n",
    "sns.regplot(x=data2, y=data3)\n",
    "plt.show()"
   ]
  },
  {
   "cell_type": "markdown",
   "metadata": {},
   "source": [
    "**Conclusión**: A un nivel de significancia del 5 %, a partir de los datos de la muestra, con una **correlación negativa linear de casi -1 (-0.809)** entre *Goals* y la clasificación final del equipo en la liga *(LgRk)*.  \n",
    "Podemos concluir que tener al máximo goleador de la competición en nuestro equipo influye a la hora de ganar el título de liga. El valor de **p = 0.000** lo ratifica."
   ]
  },
  {
   "cell_type": "markdown",
   "metadata": {},
   "source": [
    "### Exercici 3"
   ]
  },
  {
   "cell_type": "markdown",
   "metadata": {},
   "source": [
    "*Continua amb el conjunt de dades adjunt i selecciona tres atributs del conjunt de dades. Calcula el p-valor i digues si rebutja la hipòtesi nul·la agafant un alfa de 5%.*"
   ]
  },
  {
   "cell_type": "markdown",
   "metadata": {},
   "source": [
    "En la última prueba nos gustaria saber cuán eficaces son los equipos en cada una de las ligas europeas, ¿es realmente mejor una liga que otra?.  \n",
    "\n",
    "Para ello, el estudio se realizará con la muestra de los 20 equipos que componen cada una de las ligas y seleccionaremos los goles a favor *('GF')*, posteriormente comparararemos los datos de 3 ligas diferentes.\n",
    "\n",
    "**NOTA**: Descartamos la liga alemana (GER) por tener un numero de muestras inferior a las otras ligas (18)."
   ]
  },
  {
   "cell_type": "code",
   "execution_count": 17,
   "metadata": {},
   "outputs": [
    {
     "name": "stdout",
     "output_type": "stream",
     "text": [
      "stat=0.807, p=0.451\n",
      "Probably the same distribution\n"
     ]
    },
    {
     "data": {
      "image/png": "[encoded data removed]",
      "text/plain": [
       "<Figure size 432x288 with 1 Axes>"
      ]
     },
     "metadata": {
      "needs_background": "light"
     },
     "output_type": "display_data"
    },
    {
     "name": "stdout",
     "output_type": "stream",
     "text": [
      "           GF\n",
      "Country      \n",
      "ENG      50.9\n",
      "ESP      46.5\n",
      "ITA      52.7\n"
     ]
    }
   ],
   "source": [
    "# Create a dataset\n",
    "ESP = UEFA[UEFA['Country'] == 'ESP']\n",
    "ENG = UEFA[UEFA['Country'] == 'ENG']\n",
    "FRA = UEFA[UEFA['Country'] == 'FRA']\n",
    "ITA = UEFA[UEFA['Country'] == 'ITA']\n",
    "\n",
    "plotdata = UEFA[(UEFA.Country == 'ESP') | (UEFA.Country == 'ENG') | (UEFA.Country == 'ITA') ]\n",
    "\n",
    "# Example of the Analysis of Variance Test\n",
    "from scipy.stats import f_oneway\n",
    "data4 = ENG['GF'] #ENG\n",
    "data5 = ESP['GF'] #ESP\n",
    "data6 = ITA['GF'] #FRA\n",
    "stat, p = f_oneway(data4, data5, data6)\n",
    "print('stat=%.3f, p=%.3f' % (stat, p))\n",
    "if p > 0.05:\n",
    "    print('Probably the same distribution')\n",
    "else:\n",
    "    print('Probably different distributions')\n",
    "\n",
    "# plot it\n",
    "sns.boxplot(x = plotdata['Country'], y = plotdata['GF'])\n",
    "\n",
    "ax = sns.stripplot(x=plotdata['Country'], y=plotdata['GF'], color='red', alpha= 0.5, jitter=0.1)\n",
    "plt.show()\n",
    "\n",
    "# 'GF' mean by country\n",
    "print(plotdata.groupby('Country').agg({'GF' : 'mean'}))"
   ]
  },
  {
   "cell_type": "markdown",
   "metadata": {},
   "source": [
    "**Conclusión**: A un nivel de significancia del 5 %, no podemos concluir que una liga se mejor que otra por los goles que marcan unos y otros equipos.  \n",
    "Los datos de la muestra apuntan a que hay pruebas suficientes para concluir que la media de goles de la liga ***ENG*** , ***ENG*** e ***ITA*** tienen la misma distribución o se comportan de manera similar. A pesar de que, por ejemplo, la media goles en italia es mayor que la liga española."
   ]
  }
 ],
 "metadata": {
  "kernelspec": {
   "display_name": "Python 3 (ipykernel)",
   "language": "python",
   "name": "python3"
  },
  "language_info": {
   "codemirror_mode": {
    "name": "ipython",
    "version": 3
   },
   "file_extension": ".py",
   "mimetype": "text/x-python",
   "name": "python",
   "nbconvert_exporter": "python",
   "pygments_lexer": "ipython3",
   "version": "3.9.12"
  },
  "toc": {
   "base_numbering": 1,
   "nav_menu": {},
   "number_sections": true,
   "sideBar": true,
   "skip_h1_title": true,
   "title_cell": "Table of Contents",
   "title_sidebar": "Contents",
   "toc_cell": true,
   "toc_position": {
    "height": "calc(100% - 180px)",
    "left": "10px",
    "top": "150px",
    "width": "190px"
   },
   "toc_section_display": true,
   "toc_window_display": true
  },
  "varInspector": {
   "cols": {
    "lenName": 16,
    "lenType": 16,
    "lenVar": 40
   },
   "kernels_config": {
    "python": {
     "delete_cmd_postfix": "",
     "delete_cmd_prefix": "del ",
     "library": "var_list.py",
     "varRefreshCmd": "print(var_dic_list())"
    },
    "r": {
     "delete_cmd_postfix": ") ",
     "delete_cmd_prefix": "rm(",
     "library": "var_list.r",
     "varRefreshCmd": "cat(var_dic_list()) "
    }
   },
   "types_to_exclude": [
    "module",
    "function",
    "builtin_function_or_method",
    "instance",
    "_Feature"
   ],
   "window_display": false
  }
 },
 "nbformat": 4,
 "nbformat_minor": 2
}
